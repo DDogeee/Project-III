{
 "cells": [
  {
   "cell_type": "code",
   "execution_count": 2,
   "metadata": {},
   "outputs": [],
   "source": [
    "import pandas as pd\n",
    "import numpy as np"
   ]
  },
  {
   "cell_type": "code",
   "execution_count": 3,
   "metadata": {},
   "outputs": [],
   "source": [
    "gat = pd.read_json('GAT_3_64.json', lines = True)\n",
    "gcn = pd.read_json('GCN_6_256.json', lines = True)\n",
    "pretrained = pd.read_json(\"pretrained.json\", lines =True)"
   ]
  },
  {
   "cell_type": "code",
   "execution_count": 4,
   "metadata": {},
   "outputs": [
    {
     "data": {
      "text/html": [
       "<div>\n",
       "<style scoped>\n",
       "    .dataframe tbody tr th:only-of-type {\n",
       "        vertical-align: middle;\n",
       "    }\n",
       "\n",
       "    .dataframe tbody tr th {\n",
       "        vertical-align: top;\n",
       "    }\n",
       "\n",
       "    .dataframe thead th {\n",
       "        text-align: right;\n",
       "    }\n",
       "</style>\n",
       "<table border=\"1\" class=\"dataframe\">\n",
       "  <thead>\n",
       "    <tr style=\"text-align: right;\">\n",
       "      <th></th>\n",
       "      <th>GCN_6_256</th>\n",
       "      <th>instance</th>\n",
       "      <th>GAT_3_64</th>\n",
       "      <th>pretrain</th>\n",
       "    </tr>\n",
       "  </thead>\n",
       "  <tbody>\n",
       "    <tr>\n",
       "      <th>0</th>\n",
       "      <td>595621</td>\n",
       "      <td>instances/ORTEC-VRPTW-ASYM-9219f367-d1-n252-k2...</td>\n",
       "      <td>549686</td>\n",
       "      <td>586136</td>\n",
       "    </tr>\n",
       "    <tr>\n",
       "      <th>1</th>\n",
       "      <td>391479</td>\n",
       "      <td>instances/ORTEC-VRPTW-ASYM-addee14a-d1-n302-k2...</td>\n",
       "      <td>408035</td>\n",
       "      <td>428475</td>\n",
       "    </tr>\n",
       "    <tr>\n",
       "      <th>2</th>\n",
       "      <td>432624</td>\n",
       "      <td>instances/ORTEC-VRPTW-ASYM-a9d4edc2-d1-n200-k1...</td>\n",
       "      <td>417320</td>\n",
       "      <td>488755</td>\n",
       "    </tr>\n",
       "    <tr>\n",
       "      <th>3</th>\n",
       "      <td>387074</td>\n",
       "      <td>instances/ORTEC-VRPTW-ASYM-886856a8-d1-n455-k4...</td>\n",
       "      <td>341696</td>\n",
       "      <td>426585</td>\n",
       "    </tr>\n",
       "    <tr>\n",
       "      <th>4</th>\n",
       "      <td>562550</td>\n",
       "      <td>instances/ORTEC-VRPTW-ASYM-60a623ab-d1-n329-k2...</td>\n",
       "      <td>509953</td>\n",
       "      <td>567256</td>\n",
       "    </tr>\n",
       "    <tr>\n",
       "      <th>...</th>\n",
       "      <td>...</td>\n",
       "      <td>...</td>\n",
       "      <td>...</td>\n",
       "      <td>...</td>\n",
       "    </tr>\n",
       "    <tr>\n",
       "      <th>244</th>\n",
       "      <td>267114</td>\n",
       "      <td>instances/ORTEC-VRPTW-ASYM-c67b3a3f-d1-n342-k2...</td>\n",
       "      <td>254899</td>\n",
       "      <td>258240</td>\n",
       "    </tr>\n",
       "    <tr>\n",
       "      <th>245</th>\n",
       "      <td>409171</td>\n",
       "      <td>instances/ORTEC-VRPTW-ASYM-2e0a30ff-d1-n491-k3...</td>\n",
       "      <td>393522</td>\n",
       "      <td>449415</td>\n",
       "    </tr>\n",
       "    <tr>\n",
       "      <th>246</th>\n",
       "      <td>375563</td>\n",
       "      <td>instances/ORTEC-VRPTW-ASYM-4b1392b2-d1-n338-k2...</td>\n",
       "      <td>335957</td>\n",
       "      <td>350085</td>\n",
       "    </tr>\n",
       "    <tr>\n",
       "      <th>247</th>\n",
       "      <td>355713</td>\n",
       "      <td>instances/ORTEC-VRPTW-ASYM-a59d64ac-d1-n328-k2...</td>\n",
       "      <td>307213</td>\n",
       "      <td>315150</td>\n",
       "    </tr>\n",
       "    <tr>\n",
       "      <th>248</th>\n",
       "      <td>410687</td>\n",
       "      <td>instances/ORTEC-VRPTW-ASYM-16b82253-d1-n457-k3...</td>\n",
       "      <td>378136</td>\n",
       "      <td>384538</td>\n",
       "    </tr>\n",
       "  </tbody>\n",
       "</table>\n",
       "<p>249 rows × 4 columns</p>\n",
       "</div>"
      ],
      "text/plain": [
       "     GCN_6_256                                           instance  GAT_3_64  \\\n",
       "0       595621  instances/ORTEC-VRPTW-ASYM-9219f367-d1-n252-k2...    549686   \n",
       "1       391479  instances/ORTEC-VRPTW-ASYM-addee14a-d1-n302-k2...    408035   \n",
       "2       432624  instances/ORTEC-VRPTW-ASYM-a9d4edc2-d1-n200-k1...    417320   \n",
       "3       387074  instances/ORTEC-VRPTW-ASYM-886856a8-d1-n455-k4...    341696   \n",
       "4       562550  instances/ORTEC-VRPTW-ASYM-60a623ab-d1-n329-k2...    509953   \n",
       "..         ...                                                ...       ...   \n",
       "244     267114  instances/ORTEC-VRPTW-ASYM-c67b3a3f-d1-n342-k2...    254899   \n",
       "245     409171  instances/ORTEC-VRPTW-ASYM-2e0a30ff-d1-n491-k3...    393522   \n",
       "246     375563  instances/ORTEC-VRPTW-ASYM-4b1392b2-d1-n338-k2...    335957   \n",
       "247     355713  instances/ORTEC-VRPTW-ASYM-a59d64ac-d1-n328-k2...    307213   \n",
       "248     410687  instances/ORTEC-VRPTW-ASYM-16b82253-d1-n457-k3...    378136   \n",
       "\n",
       "     pretrain  \n",
       "0      586136  \n",
       "1      428475  \n",
       "2      488755  \n",
       "3      426585  \n",
       "4      567256  \n",
       "..        ...  \n",
       "244    258240  \n",
       "245    449415  \n",
       "246    350085  \n",
       "247    315150  \n",
       "248    384538  \n",
       "\n",
       "[249 rows x 4 columns]"
      ]
     },
     "execution_count": 4,
     "metadata": {},
     "output_type": "execute_result"
    }
   ],
   "source": [
    "df = pd.merge(left = gcn, right = gat, on = 'instance', how = 'outer')\n",
    "df = pd.merge(left = df, right = pretrained, on = 'instance', how = 'left')\n",
    "df"
   ]
  },
  {
   "cell_type": "code",
   "execution_count": 6,
   "metadata": {},
   "outputs": [
    {
     "name": "stdout",
     "output_type": "stream",
     "text": [
      "GCN: 413184.8554216867\n",
      "GAT: 403048.4417670683\n",
      "Pretrained: 466750.1526104418\n"
     ]
    }
   ],
   "source": [
    "print(\"GCN:\", df['GCN_6_256'].mean())\n",
    "print(\"GAT:\", df['GAT_3_64'].mean())\n",
    "print(\"Pretrained:\", df['pretrain'].mean())"
   ]
  },
  {
   "cell_type": "code",
   "execution_count": null,
   "metadata": {},
   "outputs": [],
   "source": []
  },
  {
   "cell_type": "code",
   "execution_count": null,
   "metadata": {},
   "outputs": [],
   "source": []
  }
 ],
 "metadata": {
  "kernelspec": {
   "display_name": "Python 3.7.13 ('pj3')",
   "language": "python",
   "name": "python3"
  },
  "language_info": {
   "codemirror_mode": {
    "name": "ipython",
    "version": 3
   },
   "file_extension": ".py",
   "mimetype": "text/x-python",
   "name": "python",
   "nbconvert_exporter": "python",
   "pygments_lexer": "ipython3",
   "version": "3.7.13"
  },
  "orig_nbformat": 4,
  "vscode": {
   "interpreter": {
    "hash": "36fe72f7f88cb0417d375bcb33a56c4ce1013eb9998155dc64fb8ed1a84f6746"
   }
  }
 },
 "nbformat": 4,
 "nbformat_minor": 2
}
